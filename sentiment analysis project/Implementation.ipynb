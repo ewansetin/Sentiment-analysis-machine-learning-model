{
 "cells": [
  {
   "cell_type": "code",
   "execution_count": 5,
   "id": "ba476497",
   "metadata": {},
   "outputs": [],
   "source": [
    "import pandas as pd\n",
    "import numpy as np\n",
    "\n",
    "import contractions\n",
    "\n",
    "import nltk\n",
    "\n",
    "from nltk.tokenize import word_tokenize\n",
    "\n",
    "from nltk.stem import WordNetLemmatizer, PorterStemmer\n",
    "\n",
    "lmtzr = WordNetLemmatizer()\n",
    "stmr = PorterStemmer()\n",
    "\n",
    "import matplotlib.pyplot as plt\n",
    "\n",
    "from sklearn.model_selection import train_test_split, cross_val_score, StratifiedKFold\n",
    "\n",
    "from sklearn.feature_extraction.text import CountVectorizer\n",
    "\n",
    "from sklearn.metrics import classification_report, confusion_matrix\n",
    "\n",
    "\n",
    "from sklearn.naive_bayes import MultinomialNB\n",
    "\n",
    "from sklearn.ensemble import RandomForestClassifier\n",
    "\n",
    "from sklearn.svm import SVC\n",
    "\n",
    "from sklearn.linear_model import LogisticRegression\n"
   ]
  },
  {
   "cell_type": "code",
   "execution_count": 6,
   "id": "00aea46c",
   "metadata": {},
   "outputs": [
    {
     "data": {
      "text/plain": [
       "(6103, 2)"
      ]
     },
     "execution_count": 6,
     "metadata": {},
     "output_type": "execute_result"
    }
   ],
   "source": [
    "data = pd.read_csv('Primary_dataset.csv')\n",
    "data.head()\n",
    "data.shape"
   ]
  },
  {
   "cell_type": "code",
   "execution_count": 7,
   "id": "a6bc4e9b",
   "metadata": {},
   "outputs": [
    {
     "data": {
      "text/plain": [
       "0    The service I had from the staff was very good...\n",
       "1    The staff were lovely and I couldn't fault it....\n",
       "2    I attended Russell's hall a&e department with ...\n",
       "3    My mom was admitted here,  She cried that one ...\n",
       "4    The 2☆ go to the staff on the MECU who made su...\n",
       "Name: review_text, dtype: object"
      ]
     },
     "execution_count": 7,
     "metadata": {},
     "output_type": "execute_result"
    }
   ],
   "source": [
    "data[\"review_text\"] .head()"
   ]
  },
  {
   "cell_type": "code",
   "execution_count": 8,
   "id": "59f71f55",
   "metadata": {},
   "outputs": [
    {
     "data": {
      "text/plain": [
       "0    1\n",
       "1    1\n",
       "2    1\n",
       "3   -1\n",
       "4   -1\n",
       "Name: review_rating, dtype: int64"
      ]
     },
     "execution_count": 8,
     "metadata": {},
     "output_type": "execute_result"
    }
   ],
   "source": [
    "def rate_converter(rate):\n",
    "    rate = int(rate)\n",
    "    if rate == 3:\n",
    "        rate = 0\n",
    "        return rate\n",
    "    elif rate > 3 :\n",
    "        rate = 1\n",
    "        return rate\n",
    "    else:\n",
    "        rate = -1\n",
    "        return rate\n",
    "        \n",
    "data['review_rating'] = data['review_rating'].apply(rate_converter)\n",
    "data['review_rating'].head()"
   ]
  },
  {
   "cell_type": "code",
   "execution_count": 9,
   "id": "dec02410",
   "metadata": {},
   "outputs": [],
   "source": [
    "def contractions_fixer(review):\n",
    "    '''print(\"Input review:\", review)'''\n",
    "\n",
    "    newreview = contractions.fix(review)\n",
    "    '''print(\"Input review:\", newreview)'''\n",
    "    return newreview\n",
    "    \n",
    "data['review_text'] = data['review_text'].apply(contractions_fixer)"
   ]
  },
  {
   "cell_type": "code",
   "execution_count": 10,
   "id": "5cc28e60",
   "metadata": {},
   "outputs": [],
   "source": [
    "def lowercasing(review):\n",
    "    '''print(\"Inp review:\", review)'''\n",
    "    new_low_review = review.lower()\n",
    "    '''print(\"end review:\", new_low_review)'''\n",
    "    return new_low_review\n",
    " \n",
    "data['review_text'] = data['review_text'].apply(lowercasing)"
   ]
  },
  {
   "cell_type": "code",
   "execution_count": 11,
   "id": "6b9ab516",
   "metadata": {},
   "outputs": [
    {
     "data": {
      "text/html": [
       "<div>\n",
       "<style scoped>\n",
       "    .dataframe tbody tr th:only-of-type {\n",
       "        vertical-align: middle;\n",
       "    }\n",
       "\n",
       "    .dataframe tbody tr th {\n",
       "        vertical-align: top;\n",
       "    }\n",
       "\n",
       "    .dataframe thead th {\n",
       "        text-align: right;\n",
       "    }\n",
       "</style>\n",
       "<table border=\"1\" class=\"dataframe\">\n",
       "  <thead>\n",
       "    <tr style=\"text-align: right;\">\n",
       "      <th></th>\n",
       "      <th>review_text</th>\n",
       "      <th>review_rating</th>\n",
       "    </tr>\n",
       "  </thead>\n",
       "  <tbody>\n",
       "    <tr>\n",
       "      <th>0</th>\n",
       "      <td>[the, service, i, had, from, the, staff, was, ...</td>\n",
       "      <td>1</td>\n",
       "    </tr>\n",
       "    <tr>\n",
       "      <th>1</th>\n",
       "      <td>[the, staff, were, lovely, and, i, could, not,...</td>\n",
       "      <td>1</td>\n",
       "    </tr>\n",
       "    <tr>\n",
       "      <th>2</th>\n",
       "      <td>[i, attended, russell, 's, hall, a, &amp;, e, depa...</td>\n",
       "      <td>1</td>\n",
       "    </tr>\n",
       "    <tr>\n",
       "      <th>3</th>\n",
       "      <td>[my, mom, was, admitted, here, ,, she, cried, ...</td>\n",
       "      <td>-1</td>\n",
       "    </tr>\n",
       "    <tr>\n",
       "      <th>4</th>\n",
       "      <td>[the, 2☆, go, to, the, staff, on, the, mecu, w...</td>\n",
       "      <td>-1</td>\n",
       "    </tr>\n",
       "  </tbody>\n",
       "</table>\n",
       "</div>"
      ],
      "text/plain": [
       "                                         review_text  review_rating\n",
       "0  [the, service, i, had, from, the, staff, was, ...              1\n",
       "1  [the, staff, were, lovely, and, i, could, not,...              1\n",
       "2  [i, attended, russell, 's, hall, a, &, e, depa...              1\n",
       "3  [my, mom, was, admitted, here, ,, she, cried, ...             -1\n",
       "4  [the, 2☆, go, to, the, staff, on, the, mecu, w...             -1"
      ]
     },
     "execution_count": 11,
     "metadata": {},
     "output_type": "execute_result"
    }
   ],
   "source": [
    "def tokenise_text(review):\n",
    "    '''print(\"Input review:\", review)'''\n",
    "    tokenise_reviews = word_tokenize(review)\n",
    "    '''print(\"Input review:\", review)'''\n",
    "    return tokenise_reviews\n",
    "\n",
    "data['review_text'] = data['review_text'].apply(tokenise_text)\n",
    "data.head()"
   ]
  },
  {
   "cell_type": "code",
   "execution_count": 12,
   "id": "fbd924f3",
   "metadata": {},
   "outputs": [],
   "source": [
    "def words_removal(review):\n",
    "    prepositions = [\"about\", \"above\", \"across\", \"after\", \"against\", \"along\", \"amid\", \"among\", \"around\", \"as\", \"at\", \"before\", \"behind\", \"below\", \"beneath\", \"beside\", \"besides\", \"between\", \"beyond\", \"but\", \"by\", \"concerning\", \"considering\", \"despite\", \"down\", \"during\", \"except\", \"for\", \"from\", \"in\", \"inside\", \"into\", \"like\", \"near\", \"next\", \"of\", \"on\", \"onto\", \"out\", \"outside\", \"over\", \"past\", \"regarding\", \"round\", \"since\", \"through\", \"throughout\", \"till\", \"to\", \"toward\", \"under\", \"underneath\", \"until\", \"unto\", \"upon\", \"with\", \"within\", \"without\"]\n",
    "    Articles = [\"a\", \"an\", \"the\"]\n",
    "    Pronouns = [\"i\", \"you\", \"he\", \"she\", \"it\", \"we\", \"they\", \"me\", \"him\", \"her\", \"us\", \"them\", \"my\", \"your\", \"his\", \"her\", \"its\", \"our\", \"their\", \"mine\", \"yours\", \"hers\", \"ours\", \"theirs\"]\n",
    "    Conjunctions = [ \"and\", \"but\", \"or\", \"nor\", \"so\", \"yet\", \"for\"]\n",
    "    Verbs = [\"is\", \"are\", \"am\", \"was\", \"were\", \"be\", \"been\", \"being\", \"have\", \"has\", \"had\", \"do\", \"does\", \"did\", \"can\", \"could\", \"will\", \"would\", \"shall\", \"should\", \"may\", \"might\", \"must\", \"ought\", \"need\", \"dare\"]\n",
    "    other = ['a', 'b', 'c', 'd', 'e', 'f', 'g', 'h', 'i', 'j', 'k', 'l', 'm', 'n', 'o', 'p', 'q', 'r', 's', 't', 'u', 'v', 'w', 'x', 'y', 'z','&']\n",
    "\n",
    "    '''print(\"Inp review:\", review)'''\n",
    "    review_pro_r = [review for review in review if review not in Pronouns]\n",
    "    review_art_r = [review_pro_r for review_pro_r in review_pro_r if review_pro_r not in Articles]\n",
    "    review_pre_r = [review_art_r for review_art_r in review_art_r if review_art_r not in prepositions]\n",
    "    review_con_r = [review_pre_r for review_pre_r in review_pre_r if review_pre_r not in Conjunctions]\n",
    "    review_ver_r = [review_pre_r for review_pre_r in review_pre_r if review_pre_r not in Verbs]\n",
    "    review_ver_r = [review_pre_r for review_pre_r in review_pre_r if review_pre_r not in Verbs]\n",
    "\n",
    "\n",
    "    '''print(\"new review:\", review_ver_r)'''\n",
    "    return review_ver_r\n",
    "\n",
    "data['review_text'] = data['review_text'].apply(words_removal)\n"
   ]
  },
  {
   "cell_type": "code",
   "execution_count": 13,
   "id": "3345cfbb",
   "metadata": {},
   "outputs": [
    {
     "data": {
      "text/plain": [
       "0    [service, staff, very, good, ,, and, waiting, ...\n",
       "1    [staff, lovely, and, not, fault, ., not, blame...\n",
       "2    [attended, russell, 's, hall, &, e, department...\n",
       "3    [mom, admitted, here, ,, cried, that, one, nur...\n",
       "4    [2☆, go, staff, mecu, who, made, sure, that, b...\n",
       "Name: review_text, dtype: object"
      ]
     },
     "execution_count": 13,
     "metadata": {},
     "output_type": "execute_result"
    }
   ],
   "source": [
    "\n",
    "def lemmatized_text(review):\n",
    "    '''print(\"Inp review:\", review)'''\n",
    "    lemmatized_list = [lmtzr.lemmatize(word) for word in review]\n",
    "    '''print(\"new review:\", lemmatized_list)''' \n",
    "    return lemmatized_list\n",
    "\n",
    "data['review_text'] = data['review_text'].apply(lemmatized_text)\n",
    "data['review_text'].head()"
   ]
  },
  {
   "cell_type": "code",
   "execution_count": 14,
   "id": "16b1b0dd",
   "metadata": {},
   "outputs": [
    {
     "data": {
      "text/html": [
       "<div>\n",
       "<style scoped>\n",
       "    .dataframe tbody tr th:only-of-type {\n",
       "        vertical-align: middle;\n",
       "    }\n",
       "\n",
       "    .dataframe tbody tr th {\n",
       "        vertical-align: top;\n",
       "    }\n",
       "\n",
       "    .dataframe thead th {\n",
       "        text-align: right;\n",
       "    }\n",
       "</style>\n",
       "<table border=\"1\" class=\"dataframe\">\n",
       "  <thead>\n",
       "    <tr style=\"text-align: right;\">\n",
       "      <th></th>\n",
       "      <th>review_text</th>\n",
       "      <th>review_rating</th>\n",
       "    </tr>\n",
       "  </thead>\n",
       "  <tbody>\n",
       "    <tr>\n",
       "      <th>0</th>\n",
       "      <td>[servic, staff, veri, good, ,, and, wait, time...</td>\n",
       "      <td>1</td>\n",
       "    </tr>\n",
       "    <tr>\n",
       "      <th>1</th>\n",
       "      <td>[staff, love, and, not, fault, ., not, blame, ...</td>\n",
       "      <td>1</td>\n",
       "    </tr>\n",
       "    <tr>\n",
       "      <th>2</th>\n",
       "      <td>[attend, russel, 's, hall, &amp;, e, depart, heart...</td>\n",
       "      <td>1</td>\n",
       "    </tr>\n",
       "    <tr>\n",
       "      <th>3</th>\n",
       "      <td>[mom, admit, here, ,, cri, that, one, nurs, re...</td>\n",
       "      <td>-1</td>\n",
       "    </tr>\n",
       "    <tr>\n",
       "      <th>4</th>\n",
       "      <td>[2☆, go, staff, mecu, who, made, sure, that, b...</td>\n",
       "      <td>-1</td>\n",
       "    </tr>\n",
       "  </tbody>\n",
       "</table>\n",
       "</div>"
      ],
      "text/plain": [
       "                                         review_text  review_rating\n",
       "0  [servic, staff, veri, good, ,, and, wait, time...              1\n",
       "1  [staff, love, and, not, fault, ., not, blame, ...              1\n",
       "2  [attend, russel, 's, hall, &, e, depart, heart...              1\n",
       "3  [mom, admit, here, ,, cri, that, one, nurs, re...             -1\n",
       "4  [2☆, go, staff, mecu, who, made, sure, that, b...             -1"
      ]
     },
     "execution_count": 14,
     "metadata": {},
     "output_type": "execute_result"
    }
   ],
   "source": [
    "def stemerise_text(review):\n",
    "    '''print(\"Inp review:\", review)'''\n",
    "    stemmed_list = [stmr.stem(word) for word in review]\n",
    "    '''print(\"new review:\", stemmed_list)''' \n",
    "    return stemmed_list\n",
    "\n",
    "data['review_text'] = data['review_text'].apply(stemerise_text)\n",
    "data.head()"
   ]
  },
  {
   "cell_type": "code",
   "execution_count": 15,
   "id": "fa34ed96",
   "metadata": {},
   "outputs": [
    {
     "data": {
      "text/html": [
       "<div>\n",
       "<style scoped>\n",
       "    .dataframe tbody tr th:only-of-type {\n",
       "        vertical-align: middle;\n",
       "    }\n",
       "\n",
       "    .dataframe tbody tr th {\n",
       "        vertical-align: top;\n",
       "    }\n",
       "\n",
       "    .dataframe thead th {\n",
       "        text-align: right;\n",
       "    }\n",
       "</style>\n",
       "<table border=\"1\" class=\"dataframe\">\n",
       "  <thead>\n",
       "    <tr style=\"text-align: right;\">\n",
       "      <th></th>\n",
       "      <th>review_text</th>\n",
       "      <th>review_rating</th>\n",
       "    </tr>\n",
       "  </thead>\n",
       "  <tbody>\n",
       "    <tr>\n",
       "      <th>0</th>\n",
       "      <td>[servic, staff, veri, good, ,, and, wait, time...</td>\n",
       "      <td>1</td>\n",
       "    </tr>\n",
       "    <tr>\n",
       "      <th>1</th>\n",
       "      <td>[staff, love, and, not, fault, ., not, blame, ...</td>\n",
       "      <td>1</td>\n",
       "    </tr>\n",
       "    <tr>\n",
       "      <th>2</th>\n",
       "      <td>[attend, russel, 's, hall, &amp;, e, depart, heart...</td>\n",
       "      <td>1</td>\n",
       "    </tr>\n",
       "    <tr>\n",
       "      <th>3</th>\n",
       "      <td>[mom, admit, here, ,, cri, that, one, nurs, re...</td>\n",
       "      <td>-1</td>\n",
       "    </tr>\n",
       "    <tr>\n",
       "      <th>4</th>\n",
       "      <td>[2☆, go, staff, mecu, who, made, sure, that, b...</td>\n",
       "      <td>-1</td>\n",
       "    </tr>\n",
       "  </tbody>\n",
       "</table>\n",
       "</div>"
      ],
      "text/plain": [
       "                                         review_text  review_rating\n",
       "0  [servic, staff, veri, good, ,, and, wait, time...              1\n",
       "1  [staff, love, and, not, fault, ., not, blame, ...              1\n",
       "2  [attend, russel, 's, hall, &, e, depart, heart...              1\n",
       "3  [mom, admit, here, ,, cri, that, one, nurs, re...             -1\n",
       "4  [2☆, go, staff, mecu, who, made, sure, that, b...             -1"
      ]
     },
     "execution_count": 15,
     "metadata": {},
     "output_type": "execute_result"
    }
   ],
   "source": [
    "data.head()"
   ]
  },
  {
   "cell_type": "code",
   "execution_count": 16,
   "id": "28c463e6",
   "metadata": {},
   "outputs": [],
   "source": [
    "def join_sentence(review):\n",
    "    '''print(\"Inp review:\", review)'''\n",
    "    joint_list = ' '.join(review)\n",
    "    '''print(\"new review:\", joint_list)''' \n",
    "    return joint_list\n",
    "    \n",
    "data['review_text'] = data['review_text'].apply(join_sentence)"
   ]
  },
  {
   "cell_type": "code",
   "execution_count": 17,
   "id": "87d5f7cb",
   "metadata": {},
   "outputs": [],
   "source": [
    "reviews = data[\"review_text\"]  \n",
    "ratings = data[\"review_rating\"]"
   ]
  },
  {
   "cell_type": "code",
   "execution_count": 18,
   "id": "8447bf84",
   "metadata": {},
   "outputs": [
    {
     "data": {
      "text/plain": [
       "Text(0.5, 1.0, 'Sentiment Distribution')"
      ]
     },
     "execution_count": 18,
     "metadata": {},
     "output_type": "execute_result"
    },
    {
     "data": {
      "image/png": "[encoded data removed]",
      "text/plain": [
       "<Figure size 640x480 with 1 Axes>"
      ]
     },
     "metadata": {},
     "output_type": "display_data"
    }
   ],
   "source": [
    "negative = data[data[\"review_rating\"]== -1].shape[0]\n",
    "positive = data[data[\"review_rating\"]== 1].shape[0]\n",
    "neutral = data[data[\"review_rating\"]== 0].shape[0]\n",
    "\n",
    "plt.bar([1,2,3],[negative,neutral, positive], tick_label = ['negative','neutral','positive'], width= 1, color =['lightcoral','ivory','lightblue'])\n",
    "\n",
    "plt.text(1,negative,negative, fontsize= 12, color ='black' ,ha=\"center\")\n",
    "plt.text(2,neutral,neutral, fontsize= 12, color ='black' ,ha=\"center\")\n",
    "plt.text(3,positive,positive, fontsize= 12, color ='black' ,ha=\"center\")\n",
    "\n",
    "\n",
    "plt.xlabel(\"sentiment\")\n",
    "plt.ylabel(\"Distribution\")\n",
    "plt.title(\"Sentiment Distribution\")"
   ]
  },
  {
   "cell_type": "code",
   "execution_count": 19,
   "id": "46367bcc",
   "metadata": {},
   "outputs": [],
   "source": [
    "X_train, X_test, y_train, y_test = train_test_split(reviews,ratings, test_size=0.2)"
   ]
  },
  {
   "cell_type": "code",
   "execution_count": 20,
   "id": "38b70f42",
   "metadata": {},
   "outputs": [
    {
     "name": "stdout",
     "output_type": "stream",
     "text": [
      "(4882,) (1221,)\n"
     ]
    }
   ],
   "source": [
    "print(X_train.shape, X_test.shape)"
   ]
  },
  {
   "cell_type": "code",
   "execution_count": 21,
   "id": "229cf9d5",
   "metadata": {},
   "outputs": [],
   "source": [
    "vectorizer = CountVectorizer()\n",
    "V_X_train = vectorizer.fit_transform(X_train.values)"
   ]
  },
  {
   "cell_type": "code",
   "execution_count": 22,
   "id": "0955f008",
   "metadata": {},
   "outputs": [
    {
     "name": "stdout",
     "output_type": "stream",
     "text": [
      "[[0 0 0 ... 0 0 0]\n",
      " [0 0 0 ... 0 0 0]\n",
      " [0 0 0 ... 0 0 0]\n",
      " ...\n",
      " [0 0 0 ... 0 0 0]\n",
      " [0 0 0 ... 0 0 0]\n",
      " [0 0 0 ... 0 0 0]]\n"
     ]
    }
   ],
   "source": [
    "print(V_X_train.toarray())"
   ]
  },
  {
   "cell_type": "code",
   "execution_count": 23,
   "id": "fb331073",
   "metadata": {},
   "outputs": [
    {
     "data": {
      "text/plain": [
       "(4882, 8295)"
      ]
     },
     "execution_count": 23,
     "metadata": {},
     "output_type": "execute_result"
    }
   ],
   "source": [
    "V_X_train.shape"
   ]
  },
  {
   "cell_type": "code",
   "execution_count": 24,
   "id": "192c48e3",
   "metadata": {},
   "outputs": [
    {
     "data": {
      "text/html": [
       "<style>#sk-container-id-1 {color: black;}#sk-container-id-1 pre{padding: 0;}#sk-container-id-1 div.sk-toggleable {background-color: white;}#sk-container-id-1 label.sk-toggleable__label {cursor: pointer;display: block;width: 100%;margin-bottom: 0;padding: 0.3em;box-sizing: border-box;text-align: center;}#sk-container-id-1 label.sk-toggleable__label-arrow:before {content: \"▸\";float: left;margin-right: 0.25em;color: #696969;}#sk-container-id-1 label.sk-toggleable__label-arrow:hover:before {color: black;}#sk-container-id-1 div.sk-estimator:hover label.sk-toggleable__label-arrow:before {color: black;}#sk-container-id-1 div.sk-toggleable__content {max-height: 0;max-width: 0;overflow: hidden;text-align: left;background-color: #f0f8ff;}#sk-container-id-1 div.sk-toggleable__content pre {margin: 0.2em;color: black;border-radius: 0.25em;background-color: #f0f8ff;}#sk-container-id-1 input.sk-toggleable__control:checked~div.sk-toggleable__content {max-height: 200px;max-width: 100%;overflow: auto;}#sk-container-id-1 input.sk-toggleable__control:checked~label.sk-toggleable__label-arrow:before {content: \"▾\";}#sk-container-id-1 div.sk-estimator input.sk-toggleable__control:checked~label.sk-toggleable__label {background-color: #d4ebff;}#sk-container-id-1 div.sk-label input.sk-toggleable__control:checked~label.sk-toggleable__label {background-color: #d4ebff;}#sk-container-id-1 input.sk-hidden--visually {border: 0;clip: rect(1px 1px 1px 1px);clip: rect(1px, 1px, 1px, 1px);height: 1px;margin: -1px;overflow: hidden;padding: 0;position: absolute;width: 1px;}#sk-container-id-1 div.sk-estimator {font-family: monospace;background-color: #f0f8ff;border: 1px dotted black;border-radius: 0.25em;box-sizing: border-box;margin-bottom: 0.5em;}#sk-container-id-1 div.sk-estimator:hover {background-color: #d4ebff;}#sk-container-id-1 div.sk-parallel-item::after {content: \"\";width: 100%;border-bottom: 1px solid gray;flex-grow: 1;}#sk-container-id-1 div.sk-label:hover label.sk-toggleable__label {background-color: #d4ebff;}#sk-container-id-1 div.sk-serial::before {content: \"\";position: absolute;border-left: 1px solid gray;box-sizing: border-box;top: 0;bottom: 0;left: 50%;z-index: 0;}#sk-container-id-1 div.sk-serial {display: flex;flex-direction: column;align-items: center;background-color: white;padding-right: 0.2em;padding-left: 0.2em;position: relative;}#sk-container-id-1 div.sk-item {position: relative;z-index: 1;}#sk-container-id-1 div.sk-parallel {display: flex;align-items: stretch;justify-content: center;background-color: white;position: relative;}#sk-container-id-1 div.sk-item::before, #sk-container-id-1 div.sk-parallel-item::before {content: \"\";position: absolute;border-left: 1px solid gray;box-sizing: border-box;top: 0;bottom: 0;left: 50%;z-index: -1;}#sk-container-id-1 div.sk-parallel-item {display: flex;flex-direction: column;z-index: 1;position: relative;background-color: white;}#sk-container-id-1 div.sk-parallel-item:first-child::after {align-self: flex-end;width: 50%;}#sk-container-id-1 div.sk-parallel-item:last-child::after {align-self: flex-start;width: 50%;}#sk-container-id-1 div.sk-parallel-item:only-child::after {width: 0;}#sk-container-id-1 div.sk-dashed-wrapped {border: 1px dashed gray;margin: 0 0.4em 0.5em 0.4em;box-sizing: border-box;padding-bottom: 0.4em;background-color: white;}#sk-container-id-1 div.sk-label label {font-family: monospace;font-weight: bold;display: inline-block;line-height: 1.2em;}#sk-container-id-1 div.sk-label-container {text-align: center;}#sk-container-id-1 div.sk-container {/* jupyter's `normalize.less` sets `[hidden] { display: none; }` but bootstrap.min.css set `[hidden] { display: none !important; }` so we also need the `!important` here to be able to override the default hidden behavior on the sphinx rendered scikit-learn.org. See: https://github.com/scikit-learn/scikit-learn/issues/21755 */display: inline-block !important;position: relative;}#sk-container-id-1 div.sk-text-repr-fallback {display: none;}</style><div id=\"sk-container-id-1\" class=\"sk-top-container\"><div class=\"sk-text-repr-fallback\"><pre>MultinomialNB()</pre><b>In a Jupyter environment, please rerun this cell to show the HTML representation or trust the notebook. <br />On GitHub, the HTML representation is unable to render, please try loading this page with nbviewer.org.</b></div><div class=\"sk-container\" hidden><div class=\"sk-item\"><div class=\"sk-estimator sk-toggleable\"><input class=\"sk-toggleable__control sk-hidden--visually\" id=\"sk-estimator-id-1\" type=\"checkbox\" checked><label for=\"sk-estimator-id-1\" class=\"sk-toggleable__label sk-toggleable__label-arrow\">MultinomialNB</label><div class=\"sk-toggleable__content\"><pre>MultinomialNB()</pre></div></div></div></div></div>"
      ],
      "text/plain": [
       "MultinomialNB()"
      ]
     },
     "execution_count": 24,
     "metadata": {},
     "output_type": "execute_result"
    }
   ],
   "source": [
    "NB_model = MultinomialNB()\n",
    "NB_model.fit(V_X_train,y_train)"
   ]
  },
  {
   "cell_type": "code",
   "execution_count": 25,
   "id": "f82dee5c",
   "metadata": {},
   "outputs": [
    {
     "data": {
      "text/html": [
       "<style>#sk-container-id-2 {color: black;}#sk-container-id-2 pre{padding: 0;}#sk-container-id-2 div.sk-toggleable {background-color: white;}#sk-container-id-2 label.sk-toggleable__label {cursor: pointer;display: block;width: 100%;margin-bottom: 0;padding: 0.3em;box-sizing: border-box;text-align: center;}#sk-container-id-2 label.sk-toggleable__label-arrow:before {content: \"▸\";float: left;margin-right: 0.25em;color: #696969;}#sk-container-id-2 label.sk-toggleable__label-arrow:hover:before {color: black;}#sk-container-id-2 div.sk-estimator:hover label.sk-toggleable__label-arrow:before {color: black;}#sk-container-id-2 div.sk-toggleable__content {max-height: 0;max-width: 0;overflow: hidden;text-align: left;background-color: #f0f8ff;}#sk-container-id-2 div.sk-toggleable__content pre {margin: 0.2em;color: black;border-radius: 0.25em;background-color: #f0f8ff;}#sk-container-id-2 input.sk-toggleable__control:checked~div.sk-toggleable__content {max-height: 200px;max-width: 100%;overflow: auto;}#sk-container-id-2 input.sk-toggleable__control:checked~label.sk-toggleable__label-arrow:before {content: \"▾\";}#sk-container-id-2 div.sk-estimator input.sk-toggleable__control:checked~label.sk-toggleable__label {background-color: #d4ebff;}#sk-container-id-2 div.sk-label input.sk-toggleable__control:checked~label.sk-toggleable__label {background-color: #d4ebff;}#sk-container-id-2 input.sk-hidden--visually {border: 0;clip: rect(1px 1px 1px 1px);clip: rect(1px, 1px, 1px, 1px);height: 1px;margin: -1px;overflow: hidden;padding: 0;position: absolute;width: 1px;}#sk-container-id-2 div.sk-estimator {font-family: monospace;background-color: #f0f8ff;border: 1px dotted black;border-radius: 0.25em;box-sizing: border-box;margin-bottom: 0.5em;}#sk-container-id-2 div.sk-estimator:hover {background-color: #d4ebff;}#sk-container-id-2 div.sk-parallel-item::after {content: \"\";width: 100%;border-bottom: 1px solid gray;flex-grow: 1;}#sk-container-id-2 div.sk-label:hover label.sk-toggleable__label {background-color: #d4ebff;}#sk-container-id-2 div.sk-serial::before {content: \"\";position: absolute;border-left: 1px solid gray;box-sizing: border-box;top: 0;bottom: 0;left: 50%;z-index: 0;}#sk-container-id-2 div.sk-serial {display: flex;flex-direction: column;align-items: center;background-color: white;padding-right: 0.2em;padding-left: 0.2em;position: relative;}#sk-container-id-2 div.sk-item {position: relative;z-index: 1;}#sk-container-id-2 div.sk-parallel {display: flex;align-items: stretch;justify-content: center;background-color: white;position: relative;}#sk-container-id-2 div.sk-item::before, #sk-container-id-2 div.sk-parallel-item::before {content: \"\";position: absolute;border-left: 1px solid gray;box-sizing: border-box;top: 0;bottom: 0;left: 50%;z-index: -1;}#sk-container-id-2 div.sk-parallel-item {display: flex;flex-direction: column;z-index: 1;position: relative;background-color: white;}#sk-container-id-2 div.sk-parallel-item:first-child::after {align-self: flex-end;width: 50%;}#sk-container-id-2 div.sk-parallel-item:last-child::after {align-self: flex-start;width: 50%;}#sk-container-id-2 div.sk-parallel-item:only-child::after {width: 0;}#sk-container-id-2 div.sk-dashed-wrapped {border: 1px dashed gray;margin: 0 0.4em 0.5em 0.4em;box-sizing: border-box;padding-bottom: 0.4em;background-color: white;}#sk-container-id-2 div.sk-label label {font-family: monospace;font-weight: bold;display: inline-block;line-height: 1.2em;}#sk-container-id-2 div.sk-label-container {text-align: center;}#sk-container-id-2 div.sk-container {/* jupyter's `normalize.less` sets `[hidden] { display: none; }` but bootstrap.min.css set `[hidden] { display: none !important; }` so we also need the `!important` here to be able to override the default hidden behavior on the sphinx rendered scikit-learn.org. See: https://github.com/scikit-learn/scikit-learn/issues/21755 */display: inline-block !important;position: relative;}#sk-container-id-2 div.sk-text-repr-fallback {display: none;}</style><div id=\"sk-container-id-2\" class=\"sk-top-container\"><div class=\"sk-text-repr-fallback\"><pre>LogisticRegression(solver=&#x27;liblinear&#x27;)</pre><b>In a Jupyter environment, please rerun this cell to show the HTML representation or trust the notebook. <br />On GitHub, the HTML representation is unable to render, please try loading this page with nbviewer.org.</b></div><div class=\"sk-container\" hidden><div class=\"sk-item\"><div class=\"sk-estimator sk-toggleable\"><input class=\"sk-toggleable__control sk-hidden--visually\" id=\"sk-estimator-id-2\" type=\"checkbox\" checked><label for=\"sk-estimator-id-2\" class=\"sk-toggleable__label sk-toggleable__label-arrow\">LogisticRegression</label><div class=\"sk-toggleable__content\"><pre>LogisticRegression(solver=&#x27;liblinear&#x27;)</pre></div></div></div></div></div>"
      ],
      "text/plain": [
       "LogisticRegression(solver='liblinear')"
      ]
     },
     "execution_count": 25,
     "metadata": {},
     "output_type": "execute_result"
    }
   ],
   "source": [
    "LR_model = LogisticRegression(solver='liblinear')\n",
    "LR_model.fit(V_X_train,y_train)"
   ]
  },
  {
   "cell_type": "code",
   "execution_count": 26,
   "id": "8accf1e0",
   "metadata": {},
   "outputs": [
    {
     "data": {
      "text/html": [
       "<style>#sk-container-id-3 {color: black;}#sk-container-id-3 pre{padding: 0;}#sk-container-id-3 div.sk-toggleable {background-color: white;}#sk-container-id-3 label.sk-toggleable__label {cursor: pointer;display: block;width: 100%;margin-bottom: 0;padding: 0.3em;box-sizing: border-box;text-align: center;}#sk-container-id-3 label.sk-toggleable__label-arrow:before {content: \"▸\";float: left;margin-right: 0.25em;color: #696969;}#sk-container-id-3 label.sk-toggleable__label-arrow:hover:before {color: black;}#sk-container-id-3 div.sk-estimator:hover label.sk-toggleable__label-arrow:before {color: black;}#sk-container-id-3 div.sk-toggleable__content {max-height: 0;max-width: 0;overflow: hidden;text-align: left;background-color: #f0f8ff;}#sk-container-id-3 div.sk-toggleable__content pre {margin: 0.2em;color: black;border-radius: 0.25em;background-color: #f0f8ff;}#sk-container-id-3 input.sk-toggleable__control:checked~div.sk-toggleable__content {max-height: 200px;max-width: 100%;overflow: auto;}#sk-container-id-3 input.sk-toggleable__control:checked~label.sk-toggleable__label-arrow:before {content: \"▾\";}#sk-container-id-3 div.sk-estimator input.sk-toggleable__control:checked~label.sk-toggleable__label {background-color: #d4ebff;}#sk-container-id-3 div.sk-label input.sk-toggleable__control:checked~label.sk-toggleable__label {background-color: #d4ebff;}#sk-container-id-3 input.sk-hidden--visually {border: 0;clip: rect(1px 1px 1px 1px);clip: rect(1px, 1px, 1px, 1px);height: 1px;margin: -1px;overflow: hidden;padding: 0;position: absolute;width: 1px;}#sk-container-id-3 div.sk-estimator {font-family: monospace;background-color: #f0f8ff;border: 1px dotted black;border-radius: 0.25em;box-sizing: border-box;margin-bottom: 0.5em;}#sk-container-id-3 div.sk-estimator:hover {background-color: #d4ebff;}#sk-container-id-3 div.sk-parallel-item::after {content: \"\";width: 100%;border-bottom: 1px solid gray;flex-grow: 1;}#sk-container-id-3 div.sk-label:hover label.sk-toggleable__label {background-color: #d4ebff;}#sk-container-id-3 div.sk-serial::before {content: \"\";position: absolute;border-left: 1px solid gray;box-sizing: border-box;top: 0;bottom: 0;left: 50%;z-index: 0;}#sk-container-id-3 div.sk-serial {display: flex;flex-direction: column;align-items: center;background-color: white;padding-right: 0.2em;padding-left: 0.2em;position: relative;}#sk-container-id-3 div.sk-item {position: relative;z-index: 1;}#sk-container-id-3 div.sk-parallel {display: flex;align-items: stretch;justify-content: center;background-color: white;position: relative;}#sk-container-id-3 div.sk-item::before, #sk-container-id-3 div.sk-parallel-item::before {content: \"\";position: absolute;border-left: 1px solid gray;box-sizing: border-box;top: 0;bottom: 0;left: 50%;z-index: -1;}#sk-container-id-3 div.sk-parallel-item {display: flex;flex-direction: column;z-index: 1;position: relative;background-color: white;}#sk-container-id-3 div.sk-parallel-item:first-child::after {align-self: flex-end;width: 50%;}#sk-container-id-3 div.sk-parallel-item:last-child::after {align-self: flex-start;width: 50%;}#sk-container-id-3 div.sk-parallel-item:only-child::after {width: 0;}#sk-container-id-3 div.sk-dashed-wrapped {border: 1px dashed gray;margin: 0 0.4em 0.5em 0.4em;box-sizing: border-box;padding-bottom: 0.4em;background-color: white;}#sk-container-id-3 div.sk-label label {font-family: monospace;font-weight: bold;display: inline-block;line-height: 1.2em;}#sk-container-id-3 div.sk-label-container {text-align: center;}#sk-container-id-3 div.sk-container {/* jupyter's `normalize.less` sets `[hidden] { display: none; }` but bootstrap.min.css set `[hidden] { display: none !important; }` so we also need the `!important` here to be able to override the default hidden behavior on the sphinx rendered scikit-learn.org. See: https://github.com/scikit-learn/scikit-learn/issues/21755 */display: inline-block !important;position: relative;}#sk-container-id-3 div.sk-text-repr-fallback {display: none;}</style><div id=\"sk-container-id-3\" class=\"sk-top-container\"><div class=\"sk-text-repr-fallback\"><pre>RandomForestClassifier()</pre><b>In a Jupyter environment, please rerun this cell to show the HTML representation or trust the notebook. <br />On GitHub, the HTML representation is unable to render, please try loading this page with nbviewer.org.</b></div><div class=\"sk-container\" hidden><div class=\"sk-item\"><div class=\"sk-estimator sk-toggleable\"><input class=\"sk-toggleable__control sk-hidden--visually\" id=\"sk-estimator-id-3\" type=\"checkbox\" checked><label for=\"sk-estimator-id-3\" class=\"sk-toggleable__label sk-toggleable__label-arrow\">RandomForestClassifier</label><div class=\"sk-toggleable__content\"><pre>RandomForestClassifier()</pre></div></div></div></div></div>"
      ],
      "text/plain": [
       "RandomForestClassifier()"
      ]
     },
     "execution_count": 26,
     "metadata": {},
     "output_type": "execute_result"
    }
   ],
   "source": [
    "RF_model = RandomForestClassifier()\n",
    "RF_model.fit(V_X_train,y_train)"
   ]
  },
  {
   "cell_type": "code",
   "execution_count": 27,
   "id": "cb5bd77e",
   "metadata": {},
   "outputs": [
    {
     "data": {
      "text/html": [
       "<style>#sk-container-id-4 {color: black;}#sk-container-id-4 pre{padding: 0;}#sk-container-id-4 div.sk-toggleable {background-color: white;}#sk-container-id-4 label.sk-toggleable__label {cursor: pointer;display: block;width: 100%;margin-bottom: 0;padding: 0.3em;box-sizing: border-box;text-align: center;}#sk-container-id-4 label.sk-toggleable__label-arrow:before {content: \"▸\";float: left;margin-right: 0.25em;color: #696969;}#sk-container-id-4 label.sk-toggleable__label-arrow:hover:before {color: black;}#sk-container-id-4 div.sk-estimator:hover label.sk-toggleable__label-arrow:before {color: black;}#sk-container-id-4 div.sk-toggleable__content {max-height: 0;max-width: 0;overflow: hidden;text-align: left;background-color: #f0f8ff;}#sk-container-id-4 div.sk-toggleable__content pre {margin: 0.2em;color: black;border-radius: 0.25em;background-color: #f0f8ff;}#sk-container-id-4 input.sk-toggleable__control:checked~div.sk-toggleable__content {max-height: 200px;max-width: 100%;overflow: auto;}#sk-container-id-4 input.sk-toggleable__control:checked~label.sk-toggleable__label-arrow:before {content: \"▾\";}#sk-container-id-4 div.sk-estimator input.sk-toggleable__control:checked~label.sk-toggleable__label {background-color: #d4ebff;}#sk-container-id-4 div.sk-label input.sk-toggleable__control:checked~label.sk-toggleable__label {background-color: #d4ebff;}#sk-container-id-4 input.sk-hidden--visually {border: 0;clip: rect(1px 1px 1px 1px);clip: rect(1px, 1px, 1px, 1px);height: 1px;margin: -1px;overflow: hidden;padding: 0;position: absolute;width: 1px;}#sk-container-id-4 div.sk-estimator {font-family: monospace;background-color: #f0f8ff;border: 1px dotted black;border-radius: 0.25em;box-sizing: border-box;margin-bottom: 0.5em;}#sk-container-id-4 div.sk-estimator:hover {background-color: #d4ebff;}#sk-container-id-4 div.sk-parallel-item::after {content: \"\";width: 100%;border-bottom: 1px solid gray;flex-grow: 1;}#sk-container-id-4 div.sk-label:hover label.sk-toggleable__label {background-color: #d4ebff;}#sk-container-id-4 div.sk-serial::before {content: \"\";position: absolute;border-left: 1px solid gray;box-sizing: border-box;top: 0;bottom: 0;left: 50%;z-index: 0;}#sk-container-id-4 div.sk-serial {display: flex;flex-direction: column;align-items: center;background-color: white;padding-right: 0.2em;padding-left: 0.2em;position: relative;}#sk-container-id-4 div.sk-item {position: relative;z-index: 1;}#sk-container-id-4 div.sk-parallel {display: flex;align-items: stretch;justify-content: center;background-color: white;position: relative;}#sk-container-id-4 div.sk-item::before, #sk-container-id-4 div.sk-parallel-item::before {content: \"\";position: absolute;border-left: 1px solid gray;box-sizing: border-box;top: 0;bottom: 0;left: 50%;z-index: -1;}#sk-container-id-4 div.sk-parallel-item {display: flex;flex-direction: column;z-index: 1;position: relative;background-color: white;}#sk-container-id-4 div.sk-parallel-item:first-child::after {align-self: flex-end;width: 50%;}#sk-container-id-4 div.sk-parallel-item:last-child::after {align-self: flex-start;width: 50%;}#sk-container-id-4 div.sk-parallel-item:only-child::after {width: 0;}#sk-container-id-4 div.sk-dashed-wrapped {border: 1px dashed gray;margin: 0 0.4em 0.5em 0.4em;box-sizing: border-box;padding-bottom: 0.4em;background-color: white;}#sk-container-id-4 div.sk-label label {font-family: monospace;font-weight: bold;display: inline-block;line-height: 1.2em;}#sk-container-id-4 div.sk-label-container {text-align: center;}#sk-container-id-4 div.sk-container {/* jupyter's `normalize.less` sets `[hidden] { display: none; }` but bootstrap.min.css set `[hidden] { display: none !important; }` so we also need the `!important` here to be able to override the default hidden behavior on the sphinx rendered scikit-learn.org. See: https://github.com/scikit-learn/scikit-learn/issues/21755 */display: inline-block !important;position: relative;}#sk-container-id-4 div.sk-text-repr-fallback {display: none;}</style><div id=\"sk-container-id-4\" class=\"sk-top-container\"><div class=\"sk-text-repr-fallback\"><pre>SVC()</pre><b>In a Jupyter environment, please rerun this cell to show the HTML representation or trust the notebook. <br />On GitHub, the HTML representation is unable to render, please try loading this page with nbviewer.org.</b></div><div class=\"sk-container\" hidden><div class=\"sk-item\"><div class=\"sk-estimator sk-toggleable\"><input class=\"sk-toggleable__control sk-hidden--visually\" id=\"sk-estimator-id-4\" type=\"checkbox\" checked><label for=\"sk-estimator-id-4\" class=\"sk-toggleable__label sk-toggleable__label-arrow\">SVC</label><div class=\"sk-toggleable__content\"><pre>SVC()</pre></div></div></div></div></div>"
      ],
      "text/plain": [
       "SVC()"
      ]
     },
     "execution_count": 27,
     "metadata": {},
     "output_type": "execute_result"
    }
   ],
   "source": [
    "SVM_model = SVC()\n",
    "SVM_model.fit(V_X_train,y_train)"
   ]
  },
  {
   "cell_type": "code",
   "execution_count": 28,
   "id": "c2f8dcaa",
   "metadata": {},
   "outputs": [],
   "source": [
    "V_X_test = vectorizer.transform(X_test)"
   ]
  },
  {
   "cell_type": "code",
   "execution_count": 29,
   "id": "2f107d1a",
   "metadata": {},
   "outputs": [
    {
     "data": {
      "text/plain": [
       "(1221, 8295)"
      ]
     },
     "execution_count": 29,
     "metadata": {},
     "output_type": "execute_result"
    }
   ],
   "source": [
    "V_X_test.shape"
   ]
  },
  {
   "cell_type": "code",
   "execution_count": 30,
   "id": "f7e46d7b",
   "metadata": {},
   "outputs": [],
   "source": [
    "NB_y_pred = NB_model.predict(V_X_test)\n",
    "LR_y_pred = LR_model.predict(V_X_test)\n",
    "RF_y_pred = RF_model.predict(V_X_test)\n",
    "SVM_y_pred = SVM_model.predict(V_X_test)"
   ]
  },
  {
   "cell_type": "code",
   "execution_count": 31,
   "id": "b3da303f",
   "metadata": {},
   "outputs": [
    {
     "name": "stdout",
     "output_type": "stream",
     "text": [
      "              precision    recall  f1-score   support\n",
      "\n",
      "          -1       0.86      0.94      0.90       584\n",
      "           0       0.90      0.58      0.70       154\n",
      "           1       0.88      0.88      0.88       483\n",
      "\n",
      "    accuracy                           0.87      1221\n",
      "   macro avg       0.88      0.80      0.83      1221\n",
      "weighted avg       0.87      0.87      0.86      1221\n",
      "\n",
      "----------------------------------------------------------------------\n",
      "              precision    recall  f1-score   support\n",
      "\n",
      "          -1       0.89      0.91      0.90       584\n",
      "           0       0.87      0.65      0.74       154\n",
      "           1       0.87      0.92      0.89       483\n",
      "\n",
      "    accuracy                           0.88      1221\n",
      "   macro avg       0.88      0.83      0.85      1221\n",
      "weighted avg       0.88      0.88      0.88      1221\n",
      "\n",
      "----------------------------------------------------------------------\n",
      "              precision    recall  f1-score   support\n",
      "\n",
      "          -1       0.85      0.93      0.89       584\n",
      "           0       0.95      0.49      0.64       154\n",
      "           1       0.85      0.89      0.87       483\n",
      "\n",
      "    accuracy                           0.86      1221\n",
      "   macro avg       0.89      0.77      0.80      1221\n",
      "weighted avg       0.87      0.86      0.85      1221\n",
      "\n",
      "----------------------------------------------------------------------\n",
      "              precision    recall  f1-score   support\n",
      "\n",
      "          -1       0.87      0.93      0.90       584\n",
      "           0       0.95      0.41      0.57       154\n",
      "           1       0.82      0.90      0.86       483\n",
      "\n",
      "    accuracy                           0.85      1221\n",
      "   macro avg       0.88      0.75      0.78      1221\n",
      "weighted avg       0.86      0.85      0.84      1221\n",
      "\n"
     ]
    }
   ],
   "source": [
    "print(classification_report(y_test,NB_y_pred, zero_division=0),classification_report(y_test,LR_y_pred, zero_division=0),classification_report(y_test,RF_y_pred, zero_division=0),classification_report(y_test,SVM_y_pred, zero_division=0),sep=(\"\\n\"+(\"-\"*70)+\"\\n\"))"
   ]
  },
  {
   "cell_type": "code",
   "execution_count": 32,
   "id": "22d9e95e",
   "metadata": {},
   "outputs": [
    {
     "name": "stdout",
     "output_type": "stream",
     "text": [
      "[[548   3  33]\n",
      " [ 39  89  26]\n",
      " [ 52   7 424]]\n",
      "--------------------\n",
      "[[533   7  44]\n",
      " [ 31 100  23]\n",
      " [ 32   8 443]]\n",
      "--------------------\n",
      "[[543   0  41]\n",
      " [ 46  75  33]\n",
      " [ 47   4 432]]\n",
      "--------------------\n",
      "[[542   0  42]\n",
      " [ 37  63  54]\n",
      " [ 44   3 436]]\n"
     ]
    }
   ],
   "source": [
    "print(confusion_matrix(y_test,NB_y_pred),confusion_matrix(y_test,LR_y_pred),confusion_matrix(y_test,RF_y_pred),confusion_matrix(y_test,SVM_y_pred), sep=(\"\\n\"+(\"-\"*20)+\"\\n\"))"
   ]
  },
  {
   "cell_type": "code",
   "execution_count": 33,
   "id": "c2c0a89a",
   "metadata": {},
   "outputs": [
    {
     "data": {
      "text/plain": [
       "array(['servic staff veri good , and wait time fractur clinic minim . one thing that let place park , absolut atroci . not park car park all last visit , forc park side road where receiv park ticket . if come here use public transport/taxi if .',\n",
       "       'staff love and not fault . not blame hospit busi too and appreci free healthcar . sit and watch tiktok hour day day life , sure wait own health . neg park and wait 8 hour what . thank russel help 😊',\n",
       "       \"attend russel 's hall & e depart heart problem all process treat great kind , and profession . admit and receiv treatment same day treatment , and then transfer coronari care ward further treatment . both depart receiv upmost care and staff except . special mention nurs ae depart and milli irish nurs same day treatment depart . also ward spotlessli clean , staff work hard , maintain high standard . meal excel and veri tasti . thank go all concern superb care receiv . what credit nh all . .\",\n",
       "       ..., 'full charact .', 'veri busi .', 'authent .'], dtype=object)"
      ]
     },
     "execution_count": 33,
     "metadata": {},
     "output_type": "execute_result"
    }
   ],
   "source": [
    "NoS = 5\n",
    "kf = StratifiedKFold(n_splits=NoS)\n",
    "reviews.values"
   ]
  },
  {
   "cell_type": "code",
   "execution_count": 34,
   "id": "fdd6b808",
   "metadata": {},
   "outputs": [],
   "source": [
    "V_reviews = vectorizer.transform(reviews.values)"
   ]
  },
  {
   "cell_type": "code",
   "execution_count": 35,
   "id": "4daf748d",
   "metadata": {},
   "outputs": [
    {
     "data": {
      "text/plain": [
       "(6103, 8295)"
      ]
     },
     "execution_count": 35,
     "metadata": {},
     "output_type": "execute_result"
    }
   ],
   "source": [
    "V_reviews.shape"
   ]
  },
  {
   "cell_type": "code",
   "execution_count": 36,
   "id": "2628549c",
   "metadata": {},
   "outputs": [
    {
     "data": {
      "text/plain": [
       "<6103x8295 sparse matrix of type '<class 'numpy.int64'>'\n",
       "\twith 172776 stored elements in Compressed Sparse Row format>"
      ]
     },
     "execution_count": 36,
     "metadata": {},
     "output_type": "execute_result"
    }
   ],
   "source": [
    "V_reviews"
   ]
  },
  {
   "cell_type": "code",
   "execution_count": 37,
   "id": "1b94776f",
   "metadata": {},
   "outputs": [
    {
     "name": "stdout",
     "output_type": "stream",
     "text": [
      "SVC() = [0.79197379 0.81572482 0.88615889 0.87540984 0.86557377]\n",
      "RandomForestClassifier() = [0.77886978 0.81326781 0.87551188 0.86311475 0.87459016]\n",
      "LogisticRegression(solver='liblinear') = [0.81900082 0.82964783 0.90581491 0.88278689 0.89262295]\n",
      "MultinomialNB() = [0.81654382 0.84520885 0.91482391 0.90409836 0.8942623 ]\n"
     ]
    }
   ],
   "source": [
    "classifiers = [SVM_model,RF_model,LR_model,NB_model]\n",
    "\n",
    "for element in classifiers:\n",
    "    print(element, \"=\",cross_val_score(element, V_reviews, ratings))"
   ]
  },
  {
   "cell_type": "code",
   "execution_count": 38,
   "id": "ca3a6025",
   "metadata": {},
   "outputs": [],
   "source": [
    "new_data = pd.read_csv('unseen_dataset .csv')"
   ]
  },
  {
   "cell_type": "code",
   "execution_count": 39,
   "id": "e50f4701",
   "metadata": {},
   "outputs": [
    {
     "data": {
      "text/html": [
       "<div>\n",
       "<style scoped>\n",
       "    .dataframe tbody tr th:only-of-type {\n",
       "        vertical-align: middle;\n",
       "    }\n",
       "\n",
       "    .dataframe tbody tr th {\n",
       "        vertical-align: top;\n",
       "    }\n",
       "\n",
       "    .dataframe thead th {\n",
       "        text-align: right;\n",
       "    }\n",
       "</style>\n",
       "<table border=\"1\" class=\"dataframe\">\n",
       "  <thead>\n",
       "    <tr style=\"text-align: right;\">\n",
       "      <th></th>\n",
       "      <th>new_review_text</th>\n",
       "      <th>new_review_rating</th>\n",
       "    </tr>\n",
       "  </thead>\n",
       "  <tbody>\n",
       "    <tr>\n",
       "      <th>0</th>\n",
       "      <td>Bad experience, I lost an expensive belt while...</td>\n",
       "      <td>1</td>\n",
       "    </tr>\n",
       "    <tr>\n",
       "      <th>1</th>\n",
       "      <td>Possibly the worst airport in the UK and I hav...</td>\n",
       "      <td>1</td>\n",
       "    </tr>\n",
       "    <tr>\n",
       "      <th>2</th>\n",
       "      <td>I want to use LBA &amp; be proud of it welcoming v...</td>\n",
       "      <td>1</td>\n",
       "    </tr>\n",
       "    <tr>\n",
       "      <th>3</th>\n",
       "      <td>Exciting Journeys Do Not Start Here.\\n\\nAppall...</td>\n",
       "      <td>1</td>\n",
       "    </tr>\n",
       "    <tr>\n",
       "      <th>4</th>\n",
       "      <td>Shambles of a place. They no\\nidea how to run ...</td>\n",
       "      <td>1</td>\n",
       "    </tr>\n",
       "    <tr>\n",
       "      <th>...</th>\n",
       "      <td>...</td>\n",
       "      <td>...</td>\n",
       "    </tr>\n",
       "    <tr>\n",
       "      <th>2627</th>\n",
       "      <td>Picking up and dropping off is a nightmare. Ev...</td>\n",
       "      <td>3</td>\n",
       "    </tr>\n",
       "    <tr>\n",
       "      <th>2628</th>\n",
       "      <td>I've been to a lot of airports around the worl...</td>\n",
       "      <td>1</td>\n",
       "    </tr>\n",
       "    <tr>\n",
       "      <th>2629</th>\n",
       "      <td>£5 to drive through a barrier, drop somebody o...</td>\n",
       "      <td>1</td>\n",
       "    </tr>\n",
       "    <tr>\n",
       "      <th>2630</th>\n",
       "      <td>An absolute dump of an airport, well up there ...</td>\n",
       "      <td>1</td>\n",
       "    </tr>\n",
       "    <tr>\n",
       "      <th>2631</th>\n",
       "      <td>No place to eat breakfast food all day.\\nThe r...</td>\n",
       "      <td>3</td>\n",
       "    </tr>\n",
       "  </tbody>\n",
       "</table>\n",
       "<p>2632 rows × 2 columns</p>\n",
       "</div>"
      ],
      "text/plain": [
       "                                        new_review_text  new_review_rating\n",
       "0     Bad experience, I lost an expensive belt while...                  1\n",
       "1     Possibly the worst airport in the UK and I hav...                  1\n",
       "2     I want to use LBA & be proud of it welcoming v...                  1\n",
       "3     Exciting Journeys Do Not Start Here.\\n\\nAppall...                  1\n",
       "4     Shambles of a place. They no\\nidea how to run ...                  1\n",
       "...                                                 ...                ...\n",
       "2627  Picking up and dropping off is a nightmare. Ev...                  3\n",
       "2628  I've been to a lot of airports around the worl...                  1\n",
       "2629  £5 to drive through a barrier, drop somebody o...                  1\n",
       "2630  An absolute dump of an airport, well up there ...                  1\n",
       "2631  No place to eat breakfast food all day.\\nThe r...                  3\n",
       "\n",
       "[2632 rows x 2 columns]"
      ]
     },
     "execution_count": 39,
     "metadata": {},
     "output_type": "execute_result"
    }
   ],
   "source": [
    "new_data"
   ]
  },
  {
   "cell_type": "code",
   "execution_count": 40,
   "id": "bb4f5701",
   "metadata": {},
   "outputs": [],
   "source": [
    "new_data['new_review_rating'] = new_data['new_review_rating'].apply(rate_converter)"
   ]
  },
  {
   "cell_type": "code",
   "execution_count": 41,
   "id": "e3ce9643",
   "metadata": {},
   "outputs": [],
   "source": [
    "new_data['new_review_text'] = new_data['new_review_text'].apply(contractions_fixer) "
   ]
  },
  {
   "cell_type": "code",
   "execution_count": 42,
   "id": "cf880fdc",
   "metadata": {},
   "outputs": [],
   "source": [
    "new_data['new_review_text'] = new_data['new_review_text'].apply(lowercasing)"
   ]
  },
  {
   "cell_type": "code",
   "execution_count": 43,
   "id": "db11a934",
   "metadata": {},
   "outputs": [],
   "source": [
    "new_data['new_review_text'] = new_data['new_review_text'].apply(tokenise_text)"
   ]
  },
  {
   "cell_type": "code",
   "execution_count": 44,
   "id": "d6a3a795",
   "metadata": {},
   "outputs": [],
   "source": [
    "new_data['new_review_text'] = new_data['new_review_text'].apply(words_removal)"
   ]
  },
  {
   "cell_type": "code",
   "execution_count": 45,
   "id": "b0f484cf",
   "metadata": {},
   "outputs": [],
   "source": [
    "new_data['new_review_text'] = new_data['new_review_text'].apply(lemmatized_text)"
   ]
  },
  {
   "cell_type": "code",
   "execution_count": 46,
   "id": "f625364d",
   "metadata": {},
   "outputs": [],
   "source": [
    "new_data['new_review_text'] = new_data['new_review_text'].apply(stemerise_text)"
   ]
  },
  {
   "cell_type": "code",
   "execution_count": 47,
   "id": "30840ce5",
   "metadata": {},
   "outputs": [
    {
     "data": {
      "text/html": [
       "<div>\n",
       "<style scoped>\n",
       "    .dataframe tbody tr th:only-of-type {\n",
       "        vertical-align: middle;\n",
       "    }\n",
       "\n",
       "    .dataframe tbody tr th {\n",
       "        vertical-align: top;\n",
       "    }\n",
       "\n",
       "    .dataframe thead th {\n",
       "        text-align: right;\n",
       "    }\n",
       "</style>\n",
       "<table border=\"1\" class=\"dataframe\">\n",
       "  <thead>\n",
       "    <tr style=\"text-align: right;\">\n",
       "      <th></th>\n",
       "      <th>new_review_text</th>\n",
       "      <th>new_review_rating</th>\n",
       "    </tr>\n",
       "  </thead>\n",
       "  <tbody>\n",
       "    <tr>\n",
       "      <th>0</th>\n",
       "      <td>[bad, experi, ,, lost, expens, belt, while, go...</td>\n",
       "      <td>-1</td>\n",
       "    </tr>\n",
       "    <tr>\n",
       "      <th>1</th>\n",
       "      <td>[possibl, worst, airport, uk, and, flown, manc...</td>\n",
       "      <td>-1</td>\n",
       "    </tr>\n",
       "    <tr>\n",
       "      <th>2</th>\n",
       "      <td>[want, use, lba, &amp;, proud, welcom, visitor, be...</td>\n",
       "      <td>-1</td>\n",
       "    </tr>\n",
       "    <tr>\n",
       "      <th>3</th>\n",
       "      <td>[excit, journey, not, start, here, ., appal, m...</td>\n",
       "      <td>-1</td>\n",
       "    </tr>\n",
       "    <tr>\n",
       "      <th>4</th>\n",
       "      <td>[shambl, place, ., no, idea, how, run, airport...</td>\n",
       "      <td>-1</td>\n",
       "    </tr>\n",
       "  </tbody>\n",
       "</table>\n",
       "</div>"
      ],
      "text/plain": [
       "                                     new_review_text  new_review_rating\n",
       "0  [bad, experi, ,, lost, expens, belt, while, go...                 -1\n",
       "1  [possibl, worst, airport, uk, and, flown, manc...                 -1\n",
       "2  [want, use, lba, &, proud, welcom, visitor, be...                 -1\n",
       "3  [excit, journey, not, start, here, ., appal, m...                 -1\n",
       "4  [shambl, place, ., no, idea, how, run, airport...                 -1"
      ]
     },
     "execution_count": 47,
     "metadata": {},
     "output_type": "execute_result"
    }
   ],
   "source": [
    "new_data.head()"
   ]
  },
  {
   "cell_type": "code",
   "execution_count": 48,
   "id": "f0f60c87",
   "metadata": {},
   "outputs": [],
   "source": [
    "new_data['new_review_text'] = new_data['new_review_text'].apply(join_sentence)"
   ]
  },
  {
   "cell_type": "code",
   "execution_count": 49,
   "id": "64092513",
   "metadata": {},
   "outputs": [
    {
     "data": {
      "text/plain": [
       "0       bad experi , lost expens belt while go control...\n",
       "1       possibl worst airport uk and flown manchest an...\n",
       "2       want use lba & proud welcom visitor beauti cou...\n",
       "3       excit journey not start here . appal manag sec...\n",
       "4       shambl place . no idea how run airport . wait ...\n",
       "                              ...                        \n",
       "2627    pick up and drop off nightmar . even new syste...\n",
       "2628    lot airport world and thi easili worst . empti...\n",
       "2629    £5 drive barrier , drop somebodi off and then ...\n",
       "2630    absolut dump airport , well up there some veri...\n",
       "2631    no place eat breakfast food all day . restaur ...\n",
       "Name: new_review_text, Length: 2632, dtype: object"
      ]
     },
     "execution_count": 49,
     "metadata": {},
     "output_type": "execute_result"
    }
   ],
   "source": [
    "new_data['new_review_text']"
   ]
  },
  {
   "cell_type": "code",
   "execution_count": 50,
   "id": "d5bff4c8",
   "metadata": {},
   "outputs": [
    {
     "data": {
      "text/plain": [
       "0      -1\n",
       "1      -1\n",
       "2      -1\n",
       "3      -1\n",
       "4      -1\n",
       "       ..\n",
       "2627    0\n",
       "2628   -1\n",
       "2629   -1\n",
       "2630   -1\n",
       "2631    0\n",
       "Name: new_review_rating, Length: 2632, dtype: int64"
      ]
     },
     "execution_count": 50,
     "metadata": {},
     "output_type": "execute_result"
    }
   ],
   "source": [
    "new_data['new_review_rating']"
   ]
  },
  {
   "cell_type": "code",
   "execution_count": 51,
   "id": "592b1237",
   "metadata": {},
   "outputs": [],
   "source": [
    "newreviews = new_data[\"new_review_text\"]  \n",
    "newratings = new_data[\"new_review_rating\"]"
   ]
  },
  {
   "cell_type": "code",
   "execution_count": 52,
   "id": "eee153d3",
   "metadata": {},
   "outputs": [
    {
     "data": {
      "text/plain": [
       "Text(0.5, 1.0, 'Sentiment Distribution')"
      ]
     },
     "execution_count": 52,
     "metadata": {},
     "output_type": "execute_result"
    },
    {
     "data": {
      "image/png": "[encoded data removed]",
      "text/plain": [
       "<Figure size 640x480 with 1 Axes>"
      ]
     },
     "metadata": {},
     "output_type": "display_data"
    }
   ],
   "source": [
    "negative = new_data[new_data[\"new_review_rating\"]== -1].shape[0]\n",
    "positive = new_data[new_data[\"new_review_rating\"]== 1].shape[0]\n",
    "neutral = new_data[new_data[\"new_review_rating\"]== 0].shape[0]\n",
    "\n",
    "plt.bar([1,2,3],[negative,neutral, positive], tick_label = ['negative','neutral','positive'], width= 1, color =['lightcoral','ivory','lightblue'])\n",
    "\n",
    "plt.text(1,negative,negative, fontsize= 12, color ='black' ,ha=\"center\")\n",
    "plt.text(2,neutral,neutral, fontsize= 12, color ='black' ,ha=\"center\")\n",
    "plt.text(3,positive,positive, fontsize= 12, color ='black' ,ha=\"center\")\n",
    "\n",
    "\n",
    "plt.xlabel(\"sentiment\")\n",
    "plt.ylabel(\"Distribution\")\n",
    "plt.title(\"Sentiment Distribution\")"
   ]
  },
  {
   "cell_type": "code",
   "execution_count": 53,
   "id": "35046a25",
   "metadata": {},
   "outputs": [],
   "source": [
    "V_X_newtest = vectorizer.transform(newreviews)"
   ]
  },
  {
   "cell_type": "code",
   "execution_count": 54,
   "id": "8b7d2b1c",
   "metadata": {
    "scrolled": true
   },
   "outputs": [
    {
     "data": {
      "text/plain": [
       "(2632, 8295)"
      ]
     },
     "execution_count": 54,
     "metadata": {},
     "output_type": "execute_result"
    }
   ],
   "source": [
    "V_X_newtest.shape"
   ]
  },
  {
   "cell_type": "code",
   "execution_count": 55,
   "id": "11a5c7a5",
   "metadata": {},
   "outputs": [
    {
     "name": "stdout",
     "output_type": "stream",
     "text": [
      "SVC() = [0.84250474 0.85199241 0.8460076  0.84030418 0.86121673]\n",
      "RandomForestClassifier() = [0.85768501 0.78178368 0.83460076 0.82889734 0.84790875]\n",
      "LogisticRegression(solver='liblinear') = [0.87666034 0.85199241 0.85931559 0.878327   0.85361217]\n",
      "MultinomialNB() = [0.84250474 0.84629981 0.83460076 0.82889734 0.84030418]\n"
     ]
    }
   ],
   "source": [
    "classifiers = [SVM_model,RF_model,LR_model,NB_model]\n",
    "\n",
    "for element in classifiers:\n",
    "    print(element, \"=\",cross_val_score(element, V_X_newtest, newratings))"
   ]
  },
  {
   "cell_type": "code",
   "execution_count": 56,
   "id": "d2b89af9",
   "metadata": {},
   "outputs": [],
   "source": [
    "NB_y_new_pred = NB_model.predict(V_X_newtest)\n",
    "LR_y_new_pred = LR_model.predict(V_X_newtest)\n",
    "RF_y_new_pred = RF_model.predict(V_X_newtest)\n",
    "SVM_y_new_pred = SVM_model.predict(V_X_newtest)"
   ]
  },
  {
   "cell_type": "code",
   "execution_count": 57,
   "id": "29ceed0f",
   "metadata": {},
   "outputs": [
    {
     "name": "stdout",
     "output_type": "stream",
     "text": [
      "              precision    recall  f1-score   support\n",
      "\n",
      "          -1       0.92      0.86      0.89      2107\n",
      "           0       0.16      0.40      0.23       154\n",
      "           1       0.66      0.52      0.58       371\n",
      "\n",
      "    accuracy                           0.78      2632\n",
      "   macro avg       0.58      0.59      0.57      2632\n",
      "weighted avg       0.84      0.78      0.81      2632\n",
      "\n",
      "----------------------------------------------------------------------\n",
      "              precision    recall  f1-score   support\n",
      "\n",
      "          -1       0.94      0.82      0.88      2107\n",
      "           0       0.14      0.35      0.20       154\n",
      "           1       0.53      0.61      0.57       371\n",
      "\n",
      "    accuracy                           0.76      2632\n",
      "   macro avg       0.54      0.59      0.55      2632\n",
      "weighted avg       0.84      0.76      0.79      2632\n",
      "\n",
      "----------------------------------------------------------------------\n",
      "              precision    recall  f1-score   support\n",
      "\n",
      "          -1       0.90      0.90      0.90      2107\n",
      "           0       0.11      0.07      0.09       154\n",
      "           1       0.52      0.60      0.56       371\n",
      "\n",
      "    accuracy                           0.81      2632\n",
      "   macro avg       0.51      0.52      0.52      2632\n",
      "weighted avg       0.80      0.81      0.80      2632\n",
      "\n",
      "----------------------------------------------------------------------\n",
      "              precision    recall  f1-score   support\n",
      "\n",
      "          -1       0.91      0.89      0.90      2107\n",
      "           0       0.17      0.11      0.13       154\n",
      "           1       0.52      0.67      0.58       371\n",
      "\n",
      "    accuracy                           0.81      2632\n",
      "   macro avg       0.53      0.56      0.54      2632\n",
      "weighted avg       0.82      0.81      0.81      2632\n",
      "\n"
     ]
    }
   ],
   "source": [
    "print(classification_report(newratings,NB_y_new_pred, zero_division=0),classification_report(newratings,LR_y_new_pred, zero_division=0),classification_report(newratings,RF_y_new_pred, zero_division=0),classification_report(newratings,SVM_y_new_pred, zero_division=0),sep=(\"\\n\"+(\"-\"*70)+\"\\n\"))"
   ]
  },
  {
   "cell_type": "code",
   "execution_count": 58,
   "id": "9e4f0d6d",
   "metadata": {},
   "outputs": [
    {
     "name": "stdout",
     "output_type": "stream",
     "text": [
      "[[1807  229   71]\n",
      " [  64   62   28]\n",
      " [  86   93  192]]\n",
      "--------------------\n",
      "[[1723  227  157]\n",
      " [  51   54   49]\n",
      " [  50   93  228]]\n",
      "--------------------\n",
      "[[1894   53  160]\n",
      " [  97   11   46]\n",
      " [ 107   40  224]]\n",
      "--------------------\n",
      "[[1881   49  177]\n",
      " [  84   17   53]\n",
      " [  91   33  247]]\n"
     ]
    }
   ],
   "source": [
    "print(confusion_matrix(newratings,NB_y_new_pred),confusion_matrix(newratings,LR_y_new_pred),confusion_matrix(newratings,RF_y_new_pred),confusion_matrix(newratings,SVM_y_new_pred), sep=(\"\\n\"+(\"-\"*20)+\"\\n\"))"
   ]
  }
 ],
 "metadata": {
  "kernelspec": {
   "display_name": "Python 3 (ipykernel)",
   "language": "python",
   "name": "python3"
  },
  "language_info": {
   "codemirror_mode": {
    "name": "ipython",
    "version": 3
   },
   "file_extension": ".py",
   "mimetype": "text/x-python",
   "name": "python",
   "nbconvert_exporter": "python",
   "pygments_lexer": "ipython3",
   "version": "3.11.5"
  }
 },
 "nbformat": 4,
 "nbformat_minor": 5
}
